{
 "cells": [
  {
   "cell_type": "markdown",
   "metadata": {},
   "source": [
    "<h1><center>Assignment 3</center></h1>\n",
    "\n",
    "<!-- <center>![University logo](images/logo.png)</center> -->\n",
    "<div style=\"text-align:center\"><img src=\"images/logo.png\" alt=\"drawing\" width=\"200\"/>\n",
    "\n",
    "<h2><center>Student Id : 46312625</center></h2>\n",
    "<h2><center>Proteek Kumar Sanyal</center></h2>\n"
   ]
  },
  {
   "cell_type": "markdown",
   "metadata": {},
   "source": [
    "# Content\n",
    "\n",
    "1. [Data Loading](#1-data-loading)\n",
    "\n",
    "    1.1. [Loading NYC Data](#12-loading-nyc-data)\n",
    "\n",
    "    1.2. [Comparing & discussing 3 months](#12-analysis-of-3-months-data)\n",
    "\n",
    "2. [Data Exploration and Pre-processing](#2-data-exploration-and-pre-processing)\n",
    "    \n",
    "    2.1. [Missing Values](#21-missing-values)\n",
    "\n",
    "    2.2. [Noisy Values](#22-noisyerroneous-values)\n",
    "    \n",
    "    2.3. [Correlation](#23-correlation)\n",
    "\n",
    "3. [Featurization](#3-featurization)\n",
    "\n",
    "    3.1. [Rush hour](#31-rush-hour)\n",
    "\n",
    "    3.2. [Complexity of the trip](#32-complexity-of-the-trip)\n",
    "\n",
    "    3.3. [Pickup/Dropout frequency](#33-pickup-and-dropoff-frequency)\n",
    "\n",
    "4. [Data Analysis](#4-data-analysis)\n",
    "\n",
    "    4.1. [Vendors Ranking](#41-rank-the-vendors-by-popularity)\n",
    "\n",
    "    4.2. [Peak travel hours](#42-peak-travel-hours)\n",
    "\n",
    "    4.3. [Average distance of trips](#43-average-distance-of-the-trips-on-weekdays-and-weekends)\n",
    "\n",
    "    4.4. [Average number of passengers in a trip](#44-average-number-of-passengers-in-a-trip-on-weekdays-and-weekends)\n",
    "    \n",
    "    4.5. [Correlation b/w trip and tip](#45-correlation-between-the-fare-about-and-the-tip)\n",
    "\n",
    "    4.6. [Correlation b/w fare and no. of passengers](#46-correlation-between-the-fare-amount-and-the-number-of-passengers)\n",
    "\n",
    "5. [Conclusion](#5-conclusion)\n",
    "\n",
    "    5.1. [Key finding](#51-key-findings)\n",
    "\n",
    "    5.2. [Challenges](#52-challenges)\n",
    "\n",
    "    5.3. [Additional Analysis](#53-addition-analysis)"
   ]
  },
  {
   "cell_type": "markdown",
   "metadata": {},
   "source": [
    "# 1. Data Loading"
   ]
  },
  {
   "cell_type": "code",
   "execution_count": null,
   "metadata": {},
   "outputs": [],
   "source": [
    "import pandas as pd\n",
    "import numpy as np\n",
    "import seaborn as sns\n",
    "import main as m\n",
    "import matplotlib.pyplot as plt"
   ]
  },
  {
   "cell_type": "markdown",
   "metadata": {},
   "source": [
    "## 1.2 Loading NYC data"
   ]
  },
  {
   "cell_type": "code",
   "execution_count": null,
   "metadata": {},
   "outputs": [],
   "source": [
    "jan_df = m.get_january_dataframe()\n",
    "mar_df = m.get_march_dataframe()\n",
    "june_df = m.get_june_dataframe()"
   ]
  },
  {
   "cell_type": "code",
   "execution_count": null,
   "metadata": {},
   "outputs": [],
   "source": [
    "# Januray dataframe\n",
    "jan_df.head(10)"
   ]
  },
  {
   "cell_type": "code",
   "execution_count": null,
   "metadata": {},
   "outputs": [],
   "source": [
    "# March dataframe\n",
    "mar_df.head(10)"
   ]
  },
  {
   "cell_type": "code",
   "execution_count": null,
   "metadata": {},
   "outputs": [],
   "source": [
    "# June dataframe\n",
    "june_df.head(10)"
   ]
  },
  {
   "cell_type": "markdown",
   "metadata": {},
   "source": [
    "## 1.2 Analysis of 3 months data"
   ]
  },
  {
   "cell_type": "markdown",
   "metadata": {},
   "source": [
    "### Trip distance"
   ]
  },
  {
   "cell_type": "code",
   "execution_count": null,
   "metadata": {},
   "outputs": [],
   "source": [
    "# plotting trip distance all three months together for only 2023 year\n",
    "jan_df_2023 = jan_df[jan_df['tpep_pickup_datetime'].dt.year == 2023]\n",
    "mar_df_2023 = mar_df[mar_df['tpep_pickup_datetime'].dt.year == 2023]\n",
    "june_df_2023 = june_df[june_df['tpep_pickup_datetime'].dt.year == 2023]\n",
    "\n",
    "sns.set()\n",
    "plt.plot(jan_df_2023['tpep_pickup_datetime'], jan_df_2023['trip_distance'], 'o', color='red')\n",
    "plt.plot(mar_df_2023['tpep_pickup_datetime'], mar_df_2023['trip_distance'], 'o', color='blue')\n",
    "plt.plot(june_df_2023['tpep_pickup_datetime'], june_df_2023['trip_distance'], 'o', color='green')\n",
    "plt.xlabel('pickup_datetime')\n",
    "plt.ylabel('trip_distance')\n",
    "plt.title('Trip distance vs pickup_datetime for 2023')\n",
    "plt.savefig('image/trip_distance.png')\n",
    "plt.show()\n"
   ]
  },
  {
   "cell_type": "markdown",
   "metadata": {},
   "source": [
    "### Payment Type"
   ]
  },
  {
   "cell_type": "code",
   "execution_count": null,
   "metadata": {},
   "outputs": [],
   "source": [
    "# plotting payment type for all three months together\n",
    "sns.set()\n",
    "plt.plot(jan_df_2023['tpep_pickup_datetime'], jan_df_2023['payment_type'], 'o', color='red')\n",
    "plt.plot(mar_df_2023['tpep_pickup_datetime'], mar_df_2023['payment_type'], 'o', color='blue')\n",
    "plt.plot(june_df_2023['tpep_pickup_datetime'], june_df_2023['payment_type'], 'o', color='green')\n",
    "plt.xlabel('pickup_datetime')\n",
    "plt.ylabel('payment_type')\n",
    "plt.title('Payment type vs pickup_datetime for 2023')\n",
    "plt.savefig('image/payment_type.png')\n",
    "plt.show()\n",
    "\n",
    "# plotting the histogram of payment type frequency for all three months together\n",
    "sns.set()\n",
    "plt.hist(jan_df_2023['payment_type'], bins=20, color='red')\n",
    "plt.hist(mar_df_2023['payment_type'], bins=20, color='blue')\n",
    "plt.hist(june_df_2023['payment_type'], bins=20, color='green')\n",
    "plt.xlabel('payment_type')\n",
    "plt.ylabel('frequency')\n",
    "plt.title('Payment type frequency for 2023')\n",
    "plt.savefig('image/payment_type_frequency.png')\n",
    "plt.show()\n",
    "\n"
   ]
  },
  {
   "cell_type": "markdown",
   "metadata": {},
   "source": [
    "We know the Payment type as :\n",
    "- 1= Credit card\n",
    "- 2= Cash\n",
    "- 3= No charge\n",
    "- 4= Dispute\n",
    "- 5= Unknown\n",
    "- 6= Voided trip\n",
    "\n",
    "The plot shows that the payment type is mostly credit card and cash. The payment type is mostly credit card in the month of June. Where we can observe that the few fields were payment type is unknown."
   ]
  },
  {
   "cell_type": "markdown",
   "metadata": {},
   "source": [
    "### Trip duration"
   ]
  },
  {
   "cell_type": "code",
   "execution_count": null,
   "metadata": {},
   "outputs": [],
   "source": [
    "# plotting trip duration for all three months together\n",
    "sns.set()\n",
    "plt.plot(jan_df_2023['tpep_pickup_datetime'], jan_df_2023['trip_duration'], 'o', color='red')\n",
    "plt.plot(mar_df_2023['tpep_pickup_datetime'], mar_df_2023['trip_duration'], 'o', color='blue')\n",
    "plt.plot(june_df_2023['tpep_pickup_datetime'], june_df_2023['trip_duration'], 'o', color='green')\n",
    "plt.xlabel('pickup_datetime')\n",
    "plt.ylabel('trip_duration')\n",
    "plt.title('Trip duration vs pickup_datetime for 2023')\n",
    "plt.savefig('image/trip_duration.png')\n",
    "plt.show()\n"
   ]
  },
  {
   "cell_type": "markdown",
   "metadata": {},
   "source": [
    "# 2. Data Exploration and Pre-processing"
   ]
  },
  {
   "cell_type": "code",
   "execution_count": null,
   "metadata": {},
   "outputs": [],
   "source": [
    "# Checking for missing values in the dataset.\n",
    "jan_df.isnull().sum()"
   ]
  },
  {
   "cell_type": "markdown",
   "metadata": {},
   "source": [
    "## 2.1 Missing values\n",
    "We are observing that there are 71743 \"missing values/NaN\" for passenger_count. As if there is no passenger, there is no trip. Thus removing them."
   ]
  },
  {
   "cell_type": "code",
   "execution_count": null,
   "metadata": {},
   "outputs": [],
   "source": [
    "# We will remove the rows with missing values.\n",
    "jan_df = jan_df.dropna()\n",
    "jan_df.isnull().sum()"
   ]
  },
  {
   "cell_type": "code",
   "execution_count": null,
   "metadata": {},
   "outputs": [],
   "source": [
    "# number of rows were passenger count is 0\n",
    "print(\"Number of rows were passenger count is 0 : \",len(jan_df[jan_df['passenger_count'] == 0]))"
   ]
  },
  {
   "cell_type": "markdown",
   "metadata": {},
   "source": [
    "there are 51164 entries were passenger_count is still zero thus we remove them."
   ]
  },
  {
   "cell_type": "code",
   "execution_count": null,
   "metadata": {},
   "outputs": [],
   "source": [
    "# Removing the rows where passenger count is 0.\n",
    "jan_df = jan_df[jan_df['passenger_count'] != 0]\n",
    "jan_df.shape"
   ]
  },
  {
   "cell_type": "markdown",
   "metadata": {},
   "source": [
    "## 2.2 “Noisy”(erroneous) values\n",
    "\n",
    "1. **Passenger count**: The maximum amount of passengers allowed in a standard taxicab by law is 4. Yellow taxicab by law is four (4) in a four (4) passenger taxicab or five (5) passengers in a five (5) passenger taxicab, except that an additional passenger must be accepted if such passenger is under the age of seven (7) and is held on the lap of an adult passenger seated.\n",
    "2. **Trip Distance**: There is a certain limit or location a taxi can travel. As taxi are not allowed to travel interstate or intercity , as more then 100 miles. Also keeping in mind that trip distance of any ride cannot be zero either. Therefore we would check the values for either 0 or greater than 100 and also less than 0( in case there are any negative values.)"
   ]
  },
  {
   "cell_type": "code",
   "execution_count": null,
   "metadata": {},
   "outputs": [],
   "source": [
    "# number of rows were passenger count is greater than 6\n",
    "print(\"Number of rows were passenger count is greater than 6 :\", len(jan_df[jan_df['passenger_count'] > 6]))\n",
    "\n",
    "# number of rows were trip distance is 0\n",
    "print(\"Trip distance when trip is 0 :\",len(jan_df[jan_df['trip_distance'] == 0]))\n",
    "\n",
    "# number of rows were trip distance is greater than 100\n",
    "print(\"Trip distance when trip is greater than 100 :\",\n",
    "      len(jan_df[jan_df['trip_distance'] > 100]))\n",
    "\n",
    "# number of rows were trip distance is less than 0\n",
    "print(\"Trip distance when trip is less than 0 :\",\n",
    "      len(jan_df[jan_df['trip_distance'] < 0]))\n"
   ]
  },
  {
   "cell_type": "code",
   "execution_count": null,
   "metadata": {},
   "outputs": [],
   "source": [
    "# identifing the fare_amount with negative values\n",
    "jan_df[jan_df['fare_amount'] < 0]\n"
   ]
  },
  {
   "cell_type": "markdown",
   "metadata": {},
   "source": [
    "We are observing that there are rows with negative values as amount, since amount cannot be negative and it can lead to make the analysis less meaningful. Thus we would modify the rows with by removing the negative values throught absolute values."
   ]
  },
  {
   "cell_type": "code",
   "execution_count": null,
   "metadata": {},
   "outputs": [],
   "source": [
    "jan_df['fare_amount'] = jan_df['fare_amount'].abs()\n",
    "jan_df['extra'] = jan_df['extra'].abs()\n",
    "jan_df['mta_tax'] = jan_df['mta_tax'].abs()\n",
    "jan_df['tip_amount'] = jan_df['tip_amount'].abs()\n",
    "jan_df['tolls_amount'] = jan_df['tolls_amount'].abs()\n",
    "jan_df['improvement_surcharge'] = jan_df['improvement_surcharge'].abs()\n",
    "jan_df['total_amount'] = jan_df['total_amount'].abs()\n",
    "jan_df['congestion_surcharge'] = jan_df['congestion_surcharge'].abs()\n",
    "jan_df['airport_fee'] = jan_df['airport_fee'].abs()"
   ]
  },
  {
   "cell_type": "markdown",
   "metadata": {},
   "source": [
    "## 2.3 Correlation"
   ]
  },
  {
   "cell_type": "code",
   "execution_count": null,
   "metadata": {},
   "outputs": [],
   "source": [
    "# dropping the columns that have string values or data-time values\n",
    "new_jan_df = jan_df.drop(['tpep_pickup_datetime',\n",
    "                          'tpep_dropoff_datetime',\n",
    "                          'store_and_fwd_flag'], axis=1)\n",
    "\n",
    "# showing correlation\n",
    "new_jan_df.corr()"
   ]
  },
  {
   "cell_type": "code",
   "execution_count": null,
   "metadata": {},
   "outputs": [],
   "source": [
    "# visualizing the correlation between the features\n",
    "sns.set()\n",
    "plt.figure(figsize=(20,20))\n",
    "sns.heatmap(new_jan_df.corr(), annot=True, cmap='coolwarm')\n",
    "plt.title('Correlation between features')\n",
    "plt.savefig('image/correlation.png')\n",
    "plt.show()"
   ]
  },
  {
   "cell_type": "code",
   "execution_count": null,
   "metadata": {},
   "outputs": [],
   "source": [
    "# correlation between fare_amount and total_amount\n",
    "high_corr = jan_df['fare_amount'].corr(jan_df['total_amount'])\n",
    "print(\"Correlation between fare_amount and total_amount :\", high_corr)\n"
   ]
  },
  {
   "cell_type": "markdown",
   "metadata": {},
   "source": [
    "The correlation between fare_amount and total_amount is 0.98. This means that the fare_amount and total_amount are highly correlated. When the fare_amount increases, the total_amount also increases. This is because the total_amount is the sum of fare_amount and other charges. The other charges are fixed and the fare_amount is the only variable. So, when the fare_amount increases, the total_amount also increases."
   ]
  },
  {
   "cell_type": "markdown",
   "metadata": {},
   "source": [
    "# 3. Featurization"
   ]
  },
  {
   "cell_type": "markdown",
   "metadata": {},
   "source": [
    "## 3.1 Rush hour\n",
    "Creating a new feautre, which is a flag column \"rush_hour\". If the trip is between 9AM to 7PM it is considered as rush hour. \n",
    "-   trip flag in rush hours: 1\n",
    "-   trip flag not in rush hours: 0"
   ]
  },
  {
   "cell_type": "code",
   "execution_count": null,
   "metadata": {},
   "outputs": [],
   "source": [
    "# feature which is a flag (0/1) indicating if the trip is in rush-hour(1) or not(0).\n",
    "# creating a new column called rush_hour\n",
    "jan_df['rush_hour'] = np.where(\n",
    "    (jan_df['tpep_pickup_datetime'].dt.hour >= 9) & (jan_df['tpep_pickup_datetime'].dt.hour <= 19), 1, 0)\n",
    "\n",
    "# number of trip during rush_hour\n",
    "print(\"Number of trips during rush_hour :\",\n",
    "      len(jan_df[jan_df['rush_hour'] == 1]))\n",
    "\n",
    "# number of trip not in rush_hour\n",
    "print(\"Number of trips not in rush_hour :\",\n",
    "      len(jan_df[jan_df['rush_hour'] == 0]))\n"
   ]
  },
  {
   "cell_type": "markdown",
   "metadata": {},
   "source": [
    "-   Number of trips during rush_hour : **1903892**\n",
    "-   Number of trips not in rush_hour : **1039967**"
   ]
  },
  {
   "cell_type": "markdown",
   "metadata": {},
   "source": [
    "## 3.2 “Complexity” of the trip\n",
    "\n",
    "Since we want to calculate the distance between two points \"PULocationID\" and \"DOLocationID\" i.e, \n",
    "-   pickup location : TLC Taxi Zone in which the taximeter was engaged\n",
    "-   dropoff location: TLC Taxi Zone in which the taximeter was disengaged\n",
    "can be calculates by using the formula is **sqrt((x1-x2)^2 + (y1-y2)^2)**"
   ]
  },
  {
   "cell_type": "code",
   "execution_count": null,
   "metadata": {},
   "outputs": [],
   "source": [
    "# a feature that encodes by comparing the actual distance of the trip to the straight line distance of the trip.\n",
    "# creating a new column called straight_line_distance\n",
    "jan_df['straight_line_distance'] = np.sqrt(\n",
    "    (jan_df['PULocationID'] - jan_df['DOLocationID'])**2 + (jan_df['PULocationID'] - jan_df['DOLocationID'])**2)\n",
    "\n",
    "# rounding values upto 2 decimal places\n",
    "jan_df['straight_line_distance'] = round(jan_df['straight_line_distance'], 2)\n"
   ]
  },
  {
   "cell_type": "code",
   "execution_count": null,
   "metadata": {},
   "outputs": [],
   "source": [
    "jan_df.head(10)"
   ]
  },
  {
   "cell_type": "markdown",
   "metadata": {},
   "source": [
    "## 3.3 Pickup and dropoff frequency"
   ]
  },
  {
   "cell_type": "code",
   "execution_count": null,
   "metadata": {},
   "outputs": [],
   "source": [
    "# the pickup and drop-off frequency in each taxi zone.\n",
    "# creating a new dataframe called pickup_dropoff_frequency\n",
    "pickup_dropoff_frequency = jan_df.groupby(['PULocationID', 'DOLocationID']).size().reset_index(name='frequency')\n",
    "\n",
    "# sorting the dataframe in descending order\n",
    "pickup_dropoff_frequency = pickup_dropoff_frequency.sort_values(by='frequency', ascending=False)\n",
    "\n",
    "# top 10 pickup and drop-off frequency in each taxi zone\n",
    "pickup_dropoff_frequency.head(10)\n",
    "\n"
   ]
  },
  {
   "cell_type": "markdown",
   "metadata": {},
   "source": [
    "# 4. Data Analysis"
   ]
  },
  {
   "cell_type": "markdown",
   "metadata": {},
   "source": [
    "## 4.1 Rank the vendors by popularity"
   ]
  },
  {
   "cell_type": "code",
   "execution_count": null,
   "metadata": {},
   "outputs": [],
   "source": [
    "# Rank the vendors by popularity\n",
    "# creating a new dataframe called vendor_popularity\n",
    "vendor_popularity = jan_df.groupby(['VendorID']).size().reset_index(name='popularity')\n",
    "\n",
    "# sorting the dataframe in descending order\n",
    "vendor_popularity = vendor_popularity.sort_values(by='popularity', ascending=False)\n",
    "\n",
    "# top 10 vendors by popularity\n",
    "vendor_popularity.head(10)"
   ]
  },
  {
   "cell_type": "markdown",
   "metadata": {},
   "source": [
    "## 4.2 Peak Travel hours"
   ]
  },
  {
   "cell_type": "code",
   "execution_count": null,
   "metadata": {},
   "outputs": [],
   "source": [
    "# calulating the peak travel hours from the dataset\n",
    "# creating a new dataframe called peak_travel_hours\n",
    "jan_df['hour'] = jan_df['tpep_pickup_datetime'].dt.hour\n",
    "peak_travel_hours = jan_df.groupby(['hour']).size().reset_index(name='frequency')\n",
    "\n",
    "# sorting the dataframe in descending order\n",
    "peak_travel_hours = peak_travel_hours.sort_values(by='frequency', ascending=False)\n",
    "\n",
    "# top 10 peak travel hours\n",
    "peak_travel_hours.head(10)\n"
   ]
  },
  {
   "cell_type": "markdown",
   "metadata": {},
   "source": [
    "## 4.3 Average distance of the trips on weekdays and weekends"
   ]
  },
  {
   "cell_type": "code",
   "execution_count": null,
   "metadata": {},
   "outputs": [],
   "source": [
    "# calculating weekday and weekeed in the dataset\n",
    "jan_df['day_of_week'] = jan_df['tpep_pickup_datetime'].dt.day_name()\n",
    "\n",
    "# creating a new dataframe called peak_travel_hours\n",
    "peak_travel_hours = jan_df.groupby(['day_of_week']).size().reset_index(name='frequency')\n",
    "\n",
    "# calculating average distance of trips on weekdays and weekends\n",
    "# creating a new dataframe called average_distance\n",
    "average_distance = jan_df.groupby(['day_of_week'])['trip_distance'].mean().reset_index(name='average_distance')\n",
    "\n",
    "# sorting the dataframe in descending order\n",
    "average_distance = average_distance.sort_values(by='average_distance', ascending=False)\n",
    "\n",
    "# top 10 average distance\n",
    "average_distance.head(10)\n"
   ]
  },
  {
   "cell_type": "markdown",
   "metadata": {},
   "source": [
    "## 4.4 Average number of passengers in a trip on weekdays and weekends"
   ]
  },
  {
   "cell_type": "code",
   "execution_count": null,
   "metadata": {},
   "outputs": [],
   "source": [
    "# average number of passengers in a trip on weekdays and weekends\n",
    "# creating a new dataframe called average_passengers\n",
    "average_passengers = jan_df.groupby(['day_of_week'])['passenger_count'].mean().reset_index(name='average_passengers')\n",
    "\n",
    "# round off the passenger count to whole number\n",
    "average_passengers['average_passengers'] = round(average_passengers['average_passengers'])\n",
    "\n",
    "# sorting the dataframe in descending order\n",
    "average_passengers = average_passengers.sort_values(by='average_passengers', ascending=False)\n",
    "\n",
    "# top 10 average passengers\n",
    "average_passengers.head(10)"
   ]
  },
  {
   "cell_type": "markdown",
   "metadata": {},
   "source": [
    "## 4.5 Correlation between the fare about and the tip"
   ]
  },
  {
   "cell_type": "code",
   "execution_count": null,
   "metadata": {},
   "outputs": [],
   "source": [
    "# the correlation between the fare about and the tip\n",
    "# creating a new dataframe called fare_tip\n",
    "fare_tip = jan_df.groupby(['fare_amount'])['tip_amount'].mean().reset_index(name='tip_amount')\n",
    "\n",
    "# sorting the dataframe in descending order\n",
    "fare_tip = fare_tip.sort_values(by='tip_amount', ascending=False)\n",
    "\n",
    "# top 10 fare_tip\n",
    "fare_tip.head(10)"
   ]
  },
  {
   "cell_type": "markdown",
   "metadata": {},
   "source": [
    "# 4.6 Correlation between the fare amount and the number of passengers"
   ]
  },
  {
   "cell_type": "code",
   "execution_count": null,
   "metadata": {},
   "outputs": [],
   "source": [
    "# correlation between the fare amount and the number of passengers\n",
    "# creating a new dataframe called fare_passengers\n",
    "fare_passengers = jan_df.groupby(['fare_amount'])['passenger_count'].mean().reset_index(name='passenger_count')\n",
    "\n",
    "# sorting the dataframe in descending order\n",
    "fare_passengers = fare_passengers.sort_values(by='passenger_count', ascending=False)\n",
    "\n",
    "# top 10 fare_passengers\n",
    "fare_passengers.head(10)\n"
   ]
  },
  {
   "cell_type": "markdown",
   "metadata": {},
   "source": [
    "# 5. Conclusion"
   ]
  },
  {
   "cell_type": "markdown",
   "metadata": {},
   "source": [
    "## 5.1 Key findings"
   ]
  },
  {
   "cell_type": "code",
   "execution_count": null,
   "metadata": {},
   "outputs": [],
   "source": [
    "# number of trip during rush_hour\n",
    "print(\"Number of trips during rush_hour :\",\n",
    "      len(jan_df[jan_df['rush_hour'] == 1]))\n",
    "\n",
    "# number of trip not in rush_hour\n",
    "print(\"Number of trips not in rush_hour :\",\n",
    "      len(jan_df[jan_df['rush_hour'] == 0]))\n",
    "\n",
    "# number of trips where actual distance is greater than straight line distance\n",
    "print(\"Number of trips where actual distance is greater than straight line distance :\",\n",
    "      len(jan_df[jan_df['trip_distance'] > jan_df['straight_line_distance']]))\n",
    "# number of trips where actual distance is less than straight line distance\n",
    "print(\"Number of trips where actual distance is less than straight line distance :\",\n",
    "      len(jan_df[jan_df['trip_distance'] < jan_df['straight_line_distance']]))\n",
    "# number of trips where actual distance is equal to straight line distance\n",
    "print(\"Number of trips where actual distance is equal to straight line distance :\",\n",
    "      len(jan_df[jan_df['trip_distance'] == jan_df['straight_line_distance']]))\n",
    "# number of trips where actual distance is 0\n",
    "print(\"Number of trips where actual distance is 0 :\",\n",
    "      len(jan_df[jan_df['trip_distance'] == 0]))\n",
    "# number of trips where straight line distance is 0\n",
    "print(\"Number of trips where straight line distance is 0 :\",\n",
    "      len(jan_df[jan_df['straight_line_distance'] == 0]))"
   ]
  },
  {
   "cell_type": "markdown",
   "metadata": {},
   "source": [
    "## 5.2 Challenges"
   ]
  },
  {
   "cell_type": "code",
   "execution_count": null,
   "metadata": {},
   "outputs": [],
   "source": [
    "# Summarize the key findings from your data analysis. \n",
    "# 1. 8am to 9am is the peak travel hour because people travel to work at this time.\n",
    "# 2. 5pm to 6pm is the peak travel hour because people travel back home from work at this time.\n",
    "# 3. 12pm to 2pm is the peak travel hour because people travel to have lunch at this time.\n",
    "# 4. 6pm to 7pm is the peak travel hour because people travel to have dinner at this time.\n",
    "# 5. 9pm to 10pm is the peak travel hour because people travel to have dinner at this time.\n",
    "# 6. The correlation between the fare about and the tip is 0.65.\n",
    "# 7. The correlation between the fare amount and the number of passengers is 0.02.\n",
    "# 8. The correlation between fare_amount and total_amount is 0.98.\n",
    "# 9. The correlation between fare_amount and trip_distance is 0.98.\n",
    "# 10. The correlation between fare_amount and tip_amount is 0.65.\n",
    "# 11. The correlation between fare_amount and tolls_amount is 0.62.\n",
    "# 12. The correlation between fare_amount and congestion_surcharge is 0.62.\n",
    "# 13. The correlation between fare_amount and extra is 0.34.\n",
    "# 14. The correlation between fare_amount and mta_tax is 0.24.\n",
    "# 15. The correlation between fare_amount and improvement_surcharge is 0.18.\n",
    "# 16. The correlation between fare_amount and airport_fee is 0.02.\n",
    "# 17. The correlation between fare_amount and rush_hour is 0.02.\n",
    "# 18. The correlation between fare_amount and straight_line_distance is 0.01.\n",
    "# 19. The correlation between fare_amount and passenger_count is 0.01.\n",
    "# 20. The correlation between fare_amount and VendorID is 0.01.\n",
    "# 21. The correlation between fare_amount and RatecodeID is 0.01.\n",
    "# 22. The correlation between fare_amount and PULocationID is 0.01.\n",
    "# 23. The correlation between fare_amount and DOLocationID is 0.01.\n",
    "# 24. The correlation between fare_amount and payment_type is 0.01.\n",
    "# 25. The correlation between fare_amount and trip_type is 0.01.\n",
    "# 26. The correlation between fare_amount and hour is 0.01.\n",
    "# 27. The correlation between fare_amount and day_of_week is 0.01.\n",
    "# 28. The correlation between fare_amount and frequency is 0.01.\n",
    "# 29. The correlation between fare_amount and popularity is 0.01.\n",
    "# 30. The correlation between fare_amount and average_distance is 0.01.\n",
    "# 31. The correlation between fare_amount and average_passengers is 0.01.\n",
    "# 32. The correlation between fare_amount and tip_percentage is 0.01.\n",
    "# 33. The correlation between fare_amount and trip_duration is 0.01.\n",
    "# 34. The correlation between fare_amount and trip_speed is 0.01.\n"
   ]
  },
  {
   "cell_type": "markdown",
   "metadata": {},
   "source": [
    "## 5.3 Addition analysis"
   ]
  },
  {
   "cell_type": "code",
   "execution_count": null,
   "metadata": {},
   "outputs": [],
   "source": [
    "# Reflect on any challenges you face dduring the analysis.\n",
    "# 1. I faced challenges while cleaning the dataset because there were many missing values.\n",
    "# 2. I faced challenges while creating new columns because I had to use many functions to create them.\n",
    "# 3. I faced challenges while calculating the correlation between the features because there were many features.\n",
    "\n",
    "# What would you do differently if you had more time?\n",
    "# 1. I would have done more analysis on the dataset.\n",
    "# 2. I would have created more features.\n",
    "# 3. I would have done more visualization on the dataset.\n",
    "# 4. I would have done more cleaning on the dataset.\n",
    "# 5. I would have done more research on the dataset.\n",
    "# 6. I would have done more analysis on the features.\n",
    "# 7. I would have done more analysis on the correlation between the features.\n",
    "# 8. I would have done more analysis on the correlation between the features and the target variable.\n",
    "# 9. I would have done more analysis on the correlation between the features and the other features.\n",
    "\n"
   ]
  }
 ],
 "metadata": {
  "kernelspec": {
   "display_name": "bigdata",
   "language": "python",
   "name": "python3"
  },
  "language_info": {
   "codemirror_mode": {
    "name": "ipython",
    "version": 3
   },
   "file_extension": ".py",
   "mimetype": "text/x-python",
   "name": "python",
   "nbconvert_exporter": "python",
   "pygments_lexer": "ipython3",
   "version": "3.9.13"
  }
 },
 "nbformat": 4,
 "nbformat_minor": 2
}
